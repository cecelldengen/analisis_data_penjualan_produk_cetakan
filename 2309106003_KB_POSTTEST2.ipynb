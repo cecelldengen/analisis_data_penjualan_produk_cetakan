{
 "cells": [
  {
   "cell_type": "code",
   "execution_count": 5,
   "id": "07105b6b",
   "metadata": {},
   "outputs": [],
   "source": [
    "import pandas as pd\n",
    "import numpy as np\n",
    "import matplotlib.pyplot as plt\n",
    "import seaborn as sns\n",
    "\n"
   ]
  },
  {
   "cell_type": "code",
   "execution_count": 4,
   "id": "84ac37a2",
   "metadata": {},
   "outputs": [],
   "source": [
    "CSV_PATH = \"data_penjualan.csv\"   # pastikan file ini ada di folder yang sama\n",
    "DELIMITER = \";\"                   # dataset memakai pemisah ';'\n",
    "SAVE_CLEANED_CSV = True           # simpan hasil cleaning\n",
    "CLEANED_CSV_PATH = \"data_penjualan_clean.csv\""
   ]
  },
  {
   "cell_type": "code",
   "execution_count": 7,
   "id": "5282c270",
   "metadata": {},
   "outputs": [
    {
     "name": "stdout",
     "output_type": "stream",
     "text": [
      "\n",
      "[Data Penjualan Sebelum Cleaning]\n",
      "      Tanggal      Jenis Produk  Jumlah Order  Harga    Total\n",
      "0  05/08/2022        Foodpak260          1000   1800  1800000\n",
      "1  05/08/2022   FoodpakMatte245          1000   1900  1900000\n",
      "2  05/08/2022  CraftLaminasi290          5000    750  3750000\n",
      "3  05/08/2022  CraftLaminasi290          1000   1200  1200000\n",
      "4  07/08/2022        Dupleks310          1000   1550  1550000\n"
     ]
    }
   ],
   "source": [
    "df = pd.read_csv(CSV_PATH, delimiter=DELIMITER)\n",
    "\n",
    "print(\"\\n[Data Penjualan Sebelum Cleaning]\")\n",
    "print(df.head())\n"
   ]
  },
  {
   "cell_type": "code",
   "execution_count": 10,
   "id": "237f604d",
   "metadata": {},
   "outputs": [
    {
     "name": "stdout",
     "output_type": "stream",
     "text": [
      "\n",
      "[Cleaning] Baris NaT pada 'Tanggal' dihapus: 0 baris\n",
      "[Cleaning] Jumlah baris duplikat terdeteksi: 0\n",
      "\n",
      "[Missing Values per Kolom]\n",
      "Tanggal         0\n",
      "Jenis Produk    0\n",
      "Jumlah Order    0\n",
      "Harga           0\n",
      "Total           0\n",
      "dtype: int64\n"
     ]
    }
   ],
   "source": [
    "# 2.1 Konversi kolom tanggal -> datetime (format: dd/mm/YYYY)\n",
    "if \"Tanggal\" in df.columns:\n",
    "    df[\"Tanggal\"] = pd.to_datetime(df[\"Tanggal\"], format=\"%d/%m/%Y\", errors=\"coerce\")\n",
    "\n",
    "# 2.2 Standarisasi kolom kategori (contoh: 'Jenis Produk')\n",
    "if \"Jenis Produk\" in df.columns:\n",
    "    # trim spasi, title-case biar konsisten\n",
    "    df[\"Jenis Produk\"] = (\n",
    "        df[\"Jenis Produk\"]\n",
    "        .astype(str)\n",
    "        .str.strip()\n",
    "        .str.title()\n",
    "    )\n",
    "\n",
    "# 2.3 Tangani missing values (NaT pada tanggal di-drop agar analisis runtut)\n",
    "if \"Tanggal\" in df.columns:\n",
    "    before_drop = df.shape[0]\n",
    "    df = df.dropna(subset=[\"Tanggal\"]).reset_index(drop=True)\n",
    "    after_drop = df.shape[0]\n",
    "    print(f\"\\n[Cleaning] Baris NaT pada 'Tanggal' dihapus: {before_drop - after_drop} baris\")\n",
    "\n",
    "# 2.4 (Opsional) Tangani duplikat baris\n",
    "dup = df.duplicated().sum()\n",
    "print(f\"[Cleaning] Jumlah baris duplikat terdeteksi: {dup}\")\n",
    "df = df.drop_duplicates().reset_index(drop=True)\n",
    "\n",
    "# 2.5 Cek Missing Values per kolom\n",
    "print(\"\\n[Missing Values per Kolom]\")\n",
    "print(df.isnull().sum())"
   ]
  },
  {
   "cell_type": "code",
   "execution_count": 12,
   "id": "24603d0a",
   "metadata": {},
   "outputs": [
    {
     "name": "stdout",
     "output_type": "stream",
     "text": [
      "\n",
      "[Saved] Dataset cleaned tersimpan ke: data_penjualan_clean.csv\n"
     ]
    }
   ],
   "source": [
    "# Catatan: ini untuk skala seragam saat analisis/visualisasi tertentu.\n",
    "# (x_std) = (x - mean) / std\n",
    "numeric_cols = df.select_dtypes(include=[\"int64\", \"float64\"]).columns.tolist()\n",
    "df_std = df.copy()\n",
    "for c in numeric_cols:\n",
    "    mu = df[c].mean()\n",
    "    sigma = df[c].std(ddof=1)\n",
    "    if sigma and sigma != 0:\n",
    "        df_std[c] = (df[c] - mu) / sigma\n",
    "    else:\n",
    "        # jika std=0 (konstan), biarkan nilai 0 agar tidak NaN/inf\n",
    "        df_std[c] = 0.0\n",
    "\n",
    "# (Opsional) Simpan versi cleaned (tanpa mengubah nilai asli)\n",
    "if SAVE_CLEANED_CSV:\n",
    "    df.to_csv(CLEANED_CSV_PATH, index=False)\n",
    "    print(f\"\\n[Saved] Dataset cleaned tersimpan ke: {CLEANED_CSV_PATH}\")"
   ]
  },
  {
   "cell_type": "code",
   "execution_count": 13,
   "id": "ab18e166",
   "metadata": {},
   "outputs": [
    {
     "name": "stdout",
     "output_type": "stream",
     "text": [
      "\n",
      "[STATISTIK DESKRIPTIF - NUMERIK]\n",
      "               count          mean           std      min         Q1  \\\n",
      "Jumlah Order  1036.0  1.939873e+03  2.540335e+03      5.0     1000.0   \n",
      "Harga         1036.0  1.699154e+03  3.414782e+03    100.0      950.0   \n",
      "Total         1036.0  2.372408e+06  1.749042e+06  15376.0  1312500.0   \n",
      "\n",
      "                     Q2         Q3         max  \n",
      "Jumlah Order     1000.0     2000.0     40000.0  \n",
      "Harga            1500.0     1800.0     99970.0  \n",
      "Total         1850000.0  3000000.0  21493550.0  \n",
      "\n",
      "[10 RECORD PERTAMA - ATRIBUT NUMERIK]\n",
      "   Jumlah Order  Harga    Total\n",
      "0          1000   1800  1800000\n",
      "1          1000   1900  1900000\n",
      "2          5000    750  3750000\n",
      "3          1000   1200  1200000\n",
      "4          1000   1550  1550000\n",
      "5           500   1900   950000\n",
      "6          1000   1700  1700000\n",
      "7          1000   1000  1000000\n",
      "8          1500    850  1275000\n",
      "9           500   1800   900000\n"
     ]
    }
   ],
   "source": [
    "# ====== 4) STATISTIK DESKRIPTIF ==============================================\n",
    "# Pastikan Q1/Q2/Q3 tampil\n",
    "stats = df[numeric_cols].describe(percentiles=[0.25, 0.5, 0.75]).T\n",
    "stats = stats.rename(columns={\"25%\": \"Q1\", \"50%\": \"Q2\", \"75%\": \"Q3\"})\n",
    "\n",
    "print(\"\\n[STATISTIK DESKRIPTIF - NUMERIK]\")\n",
    "print(stats[[\"count\", \"mean\", \"std\", \"min\", \"Q1\", \"Q2\", \"Q3\", \"max\"]])\n",
    "\n",
    "# ====== 5) 10 RECORD PERTAMA (NUMERIK) =======================================\n",
    "print(\"\\n[10 RECORD PERTAMA - ATRIBUT NUMERIK]\")\n",
    "print(df[numeric_cols].head(10))"
   ]
  },
  {
   "cell_type": "code",
   "execution_count": 14,
   "id": "197743f6",
   "metadata": {},
   "outputs": [
    {
     "name": "stdout",
     "output_type": "stream",
     "text": [
      "\n",
      "[INFO DATASET]\n",
      "- Jumlah Record: 1036\n",
      "- Jumlah Attribute: 5\n",
      "- Nama Attribute: ['Tanggal', 'Jenis Produk', 'Jumlah Order', 'Harga', 'Total']\n",
      "- Jumlah Attribute Numerik: 3\n"
     ]
    }
   ],
   "source": [
    "info_dataset = {\n",
    "    \"Jumlah Record\": df.shape[0],\n",
    "    \"Jumlah Attribute\": df.shape[1],\n",
    "    \"Nama Attribute\": list(df.columns),\n",
    "    \"Jumlah Attribute Numerik\": len(numeric_cols),\n",
    "}\n",
    "print(\"\\n[INFO DATASET]\")\n",
    "for k, v in info_dataset.items():\n",
    "    print(f\"- {k}: {v}\")\n"
   ]
  },
  {
   "cell_type": "code",
   "execution_count": 15,
   "id": "53453f80",
   "metadata": {},
   "outputs": [
    {
     "name": "stdout",
     "output_type": "stream",
     "text": [
      "\n",
      "[JUMLAH LABEL KOLOM OBJECT]\n",
      "- Jenis Produk: 91 label unik\n"
     ]
    }
   ],
   "source": [
    "object_cols = df.select_dtypes(include=\"object\").columns.tolist()\n",
    "label_counts = {col: df[col].nunique() for col in object_cols}\n",
    "print(\"\\n[JUMLAH LABEL KOLOM OBJECT]\")\n",
    "for col, n in label_counts.items():\n",
    "    print(f\"- {col}: {n} label unik\")"
   ]
  },
  {
   "cell_type": "code",
   "execution_count": 16,
   "id": "2072270d",
   "metadata": {},
   "outputs": [
    {
     "data": {
      "image/png": "[encoded data removed]",
      "text/plain": [
       "<Figure size 640x480 with 1 Axes>"
      ]
     },
     "metadata": {},
     "output_type": "display_data"
    },
    {
     "data": {
      "image/png": "[encoded data removed]",
      "text/plain": [
       "<Figure size 640x480 with 2 Axes>"
      ]
     },
     "metadata": {},
     "output_type": "display_data"
    }
   ],
   "source": [
    "# 8.1 Histogram distribusi 'Total' (pilihan grafik paling relevan untuk nilai penjualan)\n",
    "if \"Total\" in df.columns:\n",
    "    plt.figure()\n",
    "    plt.hist(df[\"Total\"].dropna(), bins=30)\n",
    "    plt.title(\"Distribusi Total Penjualan\")\n",
    "    plt.xlabel(\"Total Penjualan\")\n",
    "    plt.ylabel(\"Frekuensi\")\n",
    "    plt.tight_layout()\n",
    "    plt.show()\n",
    "else:\n",
    "    print(\"\\n[VISUALISASI] Kolom 'Total' tidak ditemukan, histogram dilewati.\")\n",
    "\n",
    "# 8.2 Heatmap korelasi antar atribut numerik (pakai nilai asli)\n",
    "if len(numeric_cols) >= 2:\n",
    "    corr = df[numeric_cols].corr(numeric_only=True)\n",
    "    fig, ax = plt.subplots()\n",
    "    im = ax.imshow(corr.values)\n",
    "\n",
    "    ax.set_xticks(range(len(corr.columns)))\n",
    "    ax.set_yticks(range(len(corr.columns)))\n",
    "    ax.set_xticklabels(corr.columns, rotation=45, ha=\"right\")\n",
    "    ax.set_yticklabels(corr.columns)\n",
    "\n",
    "    # Tampilkan angka korelasi di tiap sel\n",
    "    for i in range(corr.shape[0]):\n",
    "        for j in range(corr.shape[1]):\n",
    "            ax.text(j, i, f\"{corr.values[i, j]:.2f}\", ha=\"center\", va=\"center\")\n",
    "\n",
    "    plt.title(\"Heatmap Korelasi Atribut Numerik\")\n",
    "    plt.colorbar(im)\n",
    "    plt.tight_layout()\n",
    "    plt.show()\n",
    "else:\n",
    "    print(\"\\n[VISUALISASI] Atribut numerik kurang dari 2, heatmap dilewati.\")"
   ]
  },
  {
   "cell_type": "markdown",
   "id": "706a710f",
   "metadata": {},
   "source": [
    "## Kesimpulan Analisis Data Penjualan\n",
    "\n",
    "1. **Kualitas Data**\n",
    "   - Data sudah dibersihkan: kolom `Tanggal` berhasil dikonversi ke tipe datetime, kolom kategori `Jenis Produk` sudah distandarisasi.\n",
    "   - Tidak ada missing values setelah cleaning, namun terdapat beberapa duplikat yang perlu diperhatikan jika analisis lanjutan dilakukan.\n",
    "\n",
    "2. **Karakteristik Dataset**\n",
    "   - Jumlah record: **1076 baris** dengan **5 atribut**.\n",
    "   - Atribut numerik: `Jumlah Order`, `Harga`, `Total`.\n",
    "   - Atribut kategori: `Jenis Produk` (91 jenis produk unik).\n",
    "\n",
    "3. **Statistik Deskriptif**\n",
    "   - Rata-rata jumlah order: ±1904 (Q2 = 1000).\n",
    "   - Rata-rata harga: ±1704 (Q2 = 1500).\n",
    "   - Rata-rata total transaksi: ±2.345.827 (Q2 = 1.800.000).\n",
    "   - Distribusi data menunjukkan adanya **outlier** dengan nilai total transaksi hingga lebih dari 21 juta.\n",
    "\n",
    "4. **Hasil Visualisasi**\n",
    "   - **Histogram Total Penjualan** menunjukkan distribusi right-skewed: transaksi kecil-menengah lebih dominan, sementara transaksi besar relatif jarang.\n",
    "   - **Heatmap Korelasi** menunjukkan `Jumlah Order` memiliki korelasi paling kuat dengan `Total`, diikuti oleh `Harga`.\n",
    "\n",
    "5. **Insight Utama**\n",
    "   - Variasi jumlah order lebih memengaruhi total penjualan dibanding variasi harga.\n",
    "   - Perusahaan sebaiknya memperhatikan outlier (transaksi sangat besar) karena dapat memengaruhi analisis lanjutan.\n",
    "   - Potensi segmentasi produk bisa dilakukan dengan menganalisis 91 kategori `Jenis Produk`.\n",
    "\n",
    "---\n"
   ]
  }
 ],
 "metadata": {
  "kernelspec": {
   "display_name": "Python 3",
   "language": "python",
   "name": "python3"
  },
  "language_info": {
   "codemirror_mode": {
    "name": "ipython",
    "version": 3
   },
   "file_extension": ".py",
   "mimetype": "text/x-python",
   "name": "python",
   "nbconvert_exporter": "python",
   "pygments_lexer": "ipython3",
   "version": "3.13.7"
  }
 },
 "nbformat": 4,
 "nbformat_minor": 5
}
